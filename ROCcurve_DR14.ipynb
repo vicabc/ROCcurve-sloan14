{
  "nbformat": 4,
  "nbformat_minor": 0,
  "metadata": {
    "colab": {
      "name": "ROCcurve_vica",
      "provenance": [],
      "collapsed_sections": []
    },
    "kernelspec": {
      "name": "python3",
      "display_name": "Python 3"
    },
    "language_info": {
      "name": "python"
    }
  },
  "cells": [
    {
      "cell_type": "code",
      "metadata": {
        "id": "-WkrJCTbqEeO"
      },
      "source": [
        "import pandas as pd\n",
        "import numpy as np\n",
        "from sklearn.model_selection import train_test_split\n",
        "from sklearn.linear_model import LogisticRegression\n",
        "from sklearn import metrics\n",
        "import matplotlib.pyplot as plt"
      ],
      "execution_count": null,
      "outputs": []
    },
    {
      "cell_type": "markdown",
      "metadata": {
        "id": "-dbniQZ3yTUh"
      },
      "source": [
        "Neste notebook temos a intenção de gerar uma curva Receiver Operator Characteristic, ou curva ROC. Ela pode ajudar a decidir qual valor do limite (threshold) é o melhor.\n",
        "\n",
        ">A sensibilidade, ou taxa positiva verdadeira do modelo, é mostrada no eixo y.\n",
        "\n",
        ">E a taxa de falsos positivos, ou 1 menos a especificidade, é dada no eixo x.\n",
        "\n",
        "A linha mostra como essas duas medidas de resultados variam com diferentes valores de limite.\n",
        "\n",
        "*A curva ROC sempre começa no ponto (0, 0).*\n",
        "\n",
        "**Isso corresponde a um valor limite de 1.**\n",
        "\n",
        "Se você tiver um limite de 1, não detectará nenhum caso de atendimento inadequado ou terá uma sensibilidade de 0.\n",
        "\n",
        "Mas você rotulará corretamente todos os casos de bom atendimento, o que significa que você tem uma taxa de falsos positivos de 0.\n",
        "\n",
        "**Quanto mais alto o limite, ou mais próximo de (0, 0), maior a especificidade e menor a sensibilidade.**\n",
        "\n",
        "**Quanto menor o limite, ou mais próximo de (1,1), maior a sensibilidade e menor a especificidade.**\n",
        "\n",
        "Se precisa ter uma alta especificidade ou baixa taxa de falsos positivos, escolha o limite que maximiza a taxa de verdadeiros positivos enquanto mantém a taxa de falsos positivos realmente baixa.\n",
        "\n",
        "Por outro lado, se precisar de uma alta sensibilidade ou taxa de verdadeiro positivo alta, escolha um limite que minimize a taxa de falso positivo, mas tenha uma taxa de verdadeiro positivo muito alta."
      ]
    },
    {
      "cell_type": "code",
      "metadata": {
        "id": "6mbIwJflqXck"
      },
      "source": [
        "sloan= pd.read_csv('/content/sloan10')"
      ],
      "execution_count": null,
      "outputs": []
    },
    {
      "cell_type": "code",
      "metadata": {
        "colab": {
          "base_uri": "https://localhost:8080/",
          "height": 224
        },
        "id": "lyxKWa75qrYE",
        "outputId": "ff8de2ae-3c7d-4c37-b6f2-bcff473cbe40"
      },
      "source": [
        "sloan.head()"
      ],
      "execution_count": null,
      "outputs": [
        {
          "output_type": "execute_result",
          "data": {
            "text/html": [
              "<div>\n",
              "<style scoped>\n",
              "    .dataframe tbody tr th:only-of-type {\n",
              "        vertical-align: middle;\n",
              "    }\n",
              "\n",
              "    .dataframe tbody tr th {\n",
              "        vertical-align: top;\n",
              "    }\n",
              "\n",
              "    .dataframe thead th {\n",
              "        text-align: right;\n",
              "    }\n",
              "</style>\n",
              "<table border=\"1\" class=\"dataframe\">\n",
              "  <thead>\n",
              "    <tr style=\"text-align: right;\">\n",
              "      <th></th>\n",
              "      <th>objid</th>\n",
              "      <th>ra</th>\n",
              "      <th>dec</th>\n",
              "      <th>u</th>\n",
              "      <th>g</th>\n",
              "      <th>r</th>\n",
              "      <th>i</th>\n",
              "      <th>z</th>\n",
              "      <th>run</th>\n",
              "      <th>rerun</th>\n",
              "      <th>camcol</th>\n",
              "      <th>field</th>\n",
              "      <th>specobjid</th>\n",
              "      <th>class</th>\n",
              "      <th>redshift</th>\n",
              "      <th>plate</th>\n",
              "      <th>mjd</th>\n",
              "      <th>fiberid</th>\n",
              "    </tr>\n",
              "  </thead>\n",
              "  <tbody>\n",
              "    <tr>\n",
              "      <th>0</th>\n",
              "      <td>1.237650e+18</td>\n",
              "      <td>183.531326</td>\n",
              "      <td>0.089693</td>\n",
              "      <td>19.47406</td>\n",
              "      <td>17.04240</td>\n",
              "      <td>15.94699</td>\n",
              "      <td>15.50342</td>\n",
              "      <td>15.22531</td>\n",
              "      <td>752</td>\n",
              "      <td>301</td>\n",
              "      <td>4</td>\n",
              "      <td>267</td>\n",
              "      <td>3.722360e+18</td>\n",
              "      <td>STAR</td>\n",
              "      <td>-0.000009</td>\n",
              "      <td>3306</td>\n",
              "      <td>54922</td>\n",
              "      <td>491</td>\n",
              "    </tr>\n",
              "    <tr>\n",
              "      <th>1</th>\n",
              "      <td>1.237650e+18</td>\n",
              "      <td>183.598371</td>\n",
              "      <td>0.135285</td>\n",
              "      <td>18.66280</td>\n",
              "      <td>17.21449</td>\n",
              "      <td>16.67637</td>\n",
              "      <td>16.48922</td>\n",
              "      <td>16.39150</td>\n",
              "      <td>752</td>\n",
              "      <td>301</td>\n",
              "      <td>4</td>\n",
              "      <td>267</td>\n",
              "      <td>3.638140e+17</td>\n",
              "      <td>STAR</td>\n",
              "      <td>-0.000055</td>\n",
              "      <td>323</td>\n",
              "      <td>51615</td>\n",
              "      <td>541</td>\n",
              "    </tr>\n",
              "    <tr>\n",
              "      <th>2</th>\n",
              "      <td>1.237650e+18</td>\n",
              "      <td>183.680207</td>\n",
              "      <td>0.126185</td>\n",
              "      <td>19.38298</td>\n",
              "      <td>18.19169</td>\n",
              "      <td>17.47428</td>\n",
              "      <td>17.08732</td>\n",
              "      <td>16.80125</td>\n",
              "      <td>752</td>\n",
              "      <td>301</td>\n",
              "      <td>4</td>\n",
              "      <td>268</td>\n",
              "      <td>3.232740e+17</td>\n",
              "      <td>GALAXY</td>\n",
              "      <td>0.123111</td>\n",
              "      <td>287</td>\n",
              "      <td>52023</td>\n",
              "      <td>513</td>\n",
              "    </tr>\n",
              "    <tr>\n",
              "      <th>3</th>\n",
              "      <td>1.237650e+18</td>\n",
              "      <td>183.870529</td>\n",
              "      <td>0.049911</td>\n",
              "      <td>17.76536</td>\n",
              "      <td>16.60272</td>\n",
              "      <td>16.16116</td>\n",
              "      <td>15.98233</td>\n",
              "      <td>15.90438</td>\n",
              "      <td>752</td>\n",
              "      <td>301</td>\n",
              "      <td>4</td>\n",
              "      <td>269</td>\n",
              "      <td>3.722370e+18</td>\n",
              "      <td>STAR</td>\n",
              "      <td>-0.000111</td>\n",
              "      <td>3306</td>\n",
              "      <td>54922</td>\n",
              "      <td>510</td>\n",
              "    </tr>\n",
              "    <tr>\n",
              "      <th>4</th>\n",
              "      <td>1.237650e+18</td>\n",
              "      <td>183.883288</td>\n",
              "      <td>0.102557</td>\n",
              "      <td>17.55025</td>\n",
              "      <td>16.26342</td>\n",
              "      <td>16.43869</td>\n",
              "      <td>16.55492</td>\n",
              "      <td>16.61326</td>\n",
              "      <td>752</td>\n",
              "      <td>301</td>\n",
              "      <td>4</td>\n",
              "      <td>269</td>\n",
              "      <td>3.722370e+18</td>\n",
              "      <td>STAR</td>\n",
              "      <td>0.000590</td>\n",
              "      <td>3306</td>\n",
              "      <td>54922</td>\n",
              "      <td>512</td>\n",
              "    </tr>\n",
              "  </tbody>\n",
              "</table>\n",
              "</div>"
            ],
            "text/plain": [
              "          objid          ra       dec  ...  plate    mjd  fiberid\n",
              "0  1.237650e+18  183.531326  0.089693  ...   3306  54922      491\n",
              "1  1.237650e+18  183.598371  0.135285  ...    323  51615      541\n",
              "2  1.237650e+18  183.680207  0.126185  ...    287  52023      513\n",
              "3  1.237650e+18  183.870529  0.049911  ...   3306  54922      510\n",
              "4  1.237650e+18  183.883288  0.102557  ...   3306  54922      512\n",
              "\n",
              "[5 rows x 18 columns]"
            ]
          },
          "metadata": {},
          "execution_count": 4
        }
      ]
    },
    {
      "cell_type": "code",
      "metadata": {
        "id": "Ewnss_aOKqMM"
      },
      "source": [
        "def dataset(da1):\n",
        "  if da1=='STAR':\n",
        "    return 1\n",
        "  elif da1=='GALAXY':\n",
        "    return 2\n",
        "  else :\n",
        "    return 3"
      ],
      "execution_count": null,
      "outputs": []
    },
    {
      "cell_type": "code",
      "metadata": {
        "colab": {
          "base_uri": "https://localhost:8080/",
          "height": 439
        },
        "id": "kuWHTI2ZKxUs",
        "outputId": "257cef1b-05d4-40e8-b4a4-4fb370e5081f"
      },
      "source": [
        "sloan['classtarget'] = sloan['class'].apply(dataset)\n",
        "\n",
        "sloan"
      ],
      "execution_count": null,
      "outputs": [
        {
          "output_type": "execute_result",
          "data": {
            "text/html": [
              "<div>\n",
              "<style scoped>\n",
              "    .dataframe tbody tr th:only-of-type {\n",
              "        vertical-align: middle;\n",
              "    }\n",
              "\n",
              "    .dataframe tbody tr th {\n",
              "        vertical-align: top;\n",
              "    }\n",
              "\n",
              "    .dataframe thead th {\n",
              "        text-align: right;\n",
              "    }\n",
              "</style>\n",
              "<table border=\"1\" class=\"dataframe\">\n",
              "  <thead>\n",
              "    <tr style=\"text-align: right;\">\n",
              "      <th></th>\n",
              "      <th>objid</th>\n",
              "      <th>ra</th>\n",
              "      <th>dec</th>\n",
              "      <th>u</th>\n",
              "      <th>g</th>\n",
              "      <th>r</th>\n",
              "      <th>i</th>\n",
              "      <th>z</th>\n",
              "      <th>run</th>\n",
              "      <th>rerun</th>\n",
              "      <th>camcol</th>\n",
              "      <th>field</th>\n",
              "      <th>specobjid</th>\n",
              "      <th>class</th>\n",
              "      <th>redshift</th>\n",
              "      <th>plate</th>\n",
              "      <th>mjd</th>\n",
              "      <th>fiberid</th>\n",
              "      <th>classtarget</th>\n",
              "    </tr>\n",
              "  </thead>\n",
              "  <tbody>\n",
              "    <tr>\n",
              "      <th>0</th>\n",
              "      <td>1.237650e+18</td>\n",
              "      <td>183.531326</td>\n",
              "      <td>0.089693</td>\n",
              "      <td>19.47406</td>\n",
              "      <td>17.04240</td>\n",
              "      <td>15.94699</td>\n",
              "      <td>15.50342</td>\n",
              "      <td>15.22531</td>\n",
              "      <td>752</td>\n",
              "      <td>301</td>\n",
              "      <td>4</td>\n",
              "      <td>267</td>\n",
              "      <td>3.722360e+18</td>\n",
              "      <td>STAR</td>\n",
              "      <td>-0.000009</td>\n",
              "      <td>3306</td>\n",
              "      <td>54922</td>\n",
              "      <td>491</td>\n",
              "      <td>1</td>\n",
              "    </tr>\n",
              "    <tr>\n",
              "      <th>1</th>\n",
              "      <td>1.237650e+18</td>\n",
              "      <td>183.598371</td>\n",
              "      <td>0.135285</td>\n",
              "      <td>18.66280</td>\n",
              "      <td>17.21449</td>\n",
              "      <td>16.67637</td>\n",
              "      <td>16.48922</td>\n",
              "      <td>16.39150</td>\n",
              "      <td>752</td>\n",
              "      <td>301</td>\n",
              "      <td>4</td>\n",
              "      <td>267</td>\n",
              "      <td>3.638140e+17</td>\n",
              "      <td>STAR</td>\n",
              "      <td>-0.000055</td>\n",
              "      <td>323</td>\n",
              "      <td>51615</td>\n",
              "      <td>541</td>\n",
              "      <td>1</td>\n",
              "    </tr>\n",
              "    <tr>\n",
              "      <th>2</th>\n",
              "      <td>1.237650e+18</td>\n",
              "      <td>183.680207</td>\n",
              "      <td>0.126185</td>\n",
              "      <td>19.38298</td>\n",
              "      <td>18.19169</td>\n",
              "      <td>17.47428</td>\n",
              "      <td>17.08732</td>\n",
              "      <td>16.80125</td>\n",
              "      <td>752</td>\n",
              "      <td>301</td>\n",
              "      <td>4</td>\n",
              "      <td>268</td>\n",
              "      <td>3.232740e+17</td>\n",
              "      <td>GALAXY</td>\n",
              "      <td>0.123111</td>\n",
              "      <td>287</td>\n",
              "      <td>52023</td>\n",
              "      <td>513</td>\n",
              "      <td>2</td>\n",
              "    </tr>\n",
              "    <tr>\n",
              "      <th>3</th>\n",
              "      <td>1.237650e+18</td>\n",
              "      <td>183.870529</td>\n",
              "      <td>0.049911</td>\n",
              "      <td>17.76536</td>\n",
              "      <td>16.60272</td>\n",
              "      <td>16.16116</td>\n",
              "      <td>15.98233</td>\n",
              "      <td>15.90438</td>\n",
              "      <td>752</td>\n",
              "      <td>301</td>\n",
              "      <td>4</td>\n",
              "      <td>269</td>\n",
              "      <td>3.722370e+18</td>\n",
              "      <td>STAR</td>\n",
              "      <td>-0.000111</td>\n",
              "      <td>3306</td>\n",
              "      <td>54922</td>\n",
              "      <td>510</td>\n",
              "      <td>1</td>\n",
              "    </tr>\n",
              "    <tr>\n",
              "      <th>4</th>\n",
              "      <td>1.237650e+18</td>\n",
              "      <td>183.883288</td>\n",
              "      <td>0.102557</td>\n",
              "      <td>17.55025</td>\n",
              "      <td>16.26342</td>\n",
              "      <td>16.43869</td>\n",
              "      <td>16.55492</td>\n",
              "      <td>16.61326</td>\n",
              "      <td>752</td>\n",
              "      <td>301</td>\n",
              "      <td>4</td>\n",
              "      <td>269</td>\n",
              "      <td>3.722370e+18</td>\n",
              "      <td>STAR</td>\n",
              "      <td>0.000590</td>\n",
              "      <td>3306</td>\n",
              "      <td>54922</td>\n",
              "      <td>512</td>\n",
              "      <td>1</td>\n",
              "    </tr>\n",
              "    <tr>\n",
              "      <th>...</th>\n",
              "      <td>...</td>\n",
              "      <td>...</td>\n",
              "      <td>...</td>\n",
              "      <td>...</td>\n",
              "      <td>...</td>\n",
              "      <td>...</td>\n",
              "      <td>...</td>\n",
              "      <td>...</td>\n",
              "      <td>...</td>\n",
              "      <td>...</td>\n",
              "      <td>...</td>\n",
              "      <td>...</td>\n",
              "      <td>...</td>\n",
              "      <td>...</td>\n",
              "      <td>...</td>\n",
              "      <td>...</td>\n",
              "      <td>...</td>\n",
              "      <td>...</td>\n",
              "      <td>...</td>\n",
              "    </tr>\n",
              "    <tr>\n",
              "      <th>9995</th>\n",
              "      <td>1.237650e+18</td>\n",
              "      <td>131.316413</td>\n",
              "      <td>51.539547</td>\n",
              "      <td>18.81777</td>\n",
              "      <td>17.47053</td>\n",
              "      <td>16.91508</td>\n",
              "      <td>16.68305</td>\n",
              "      <td>16.50570</td>\n",
              "      <td>1345</td>\n",
              "      <td>301</td>\n",
              "      <td>3</td>\n",
              "      <td>161</td>\n",
              "      <td>5.033450e+17</td>\n",
              "      <td>GALAXY</td>\n",
              "      <td>0.027583</td>\n",
              "      <td>447</td>\n",
              "      <td>51877</td>\n",
              "      <td>246</td>\n",
              "      <td>2</td>\n",
              "    </tr>\n",
              "    <tr>\n",
              "      <th>9996</th>\n",
              "      <td>1.237650e+18</td>\n",
              "      <td>131.306083</td>\n",
              "      <td>51.671341</td>\n",
              "      <td>18.27255</td>\n",
              "      <td>17.43849</td>\n",
              "      <td>17.07692</td>\n",
              "      <td>16.71661</td>\n",
              "      <td>16.69897</td>\n",
              "      <td>1345</td>\n",
              "      <td>301</td>\n",
              "      <td>3</td>\n",
              "      <td>162</td>\n",
              "      <td>5.033400e+17</td>\n",
              "      <td>GALAXY</td>\n",
              "      <td>0.117772</td>\n",
              "      <td>447</td>\n",
              "      <td>51877</td>\n",
              "      <td>228</td>\n",
              "      <td>2</td>\n",
              "    </tr>\n",
              "    <tr>\n",
              "      <th>9997</th>\n",
              "      <td>1.237650e+18</td>\n",
              "      <td>131.552562</td>\n",
              "      <td>51.666986</td>\n",
              "      <td>18.75818</td>\n",
              "      <td>17.77784</td>\n",
              "      <td>17.51872</td>\n",
              "      <td>17.43302</td>\n",
              "      <td>17.42048</td>\n",
              "      <td>1345</td>\n",
              "      <td>301</td>\n",
              "      <td>3</td>\n",
              "      <td>162</td>\n",
              "      <td>8.222620e+18</td>\n",
              "      <td>STAR</td>\n",
              "      <td>-0.000402</td>\n",
              "      <td>7303</td>\n",
              "      <td>57013</td>\n",
              "      <td>622</td>\n",
              "      <td>1</td>\n",
              "    </tr>\n",
              "    <tr>\n",
              "      <th>9998</th>\n",
              "      <td>1.237650e+18</td>\n",
              "      <td>131.477151</td>\n",
              "      <td>51.753068</td>\n",
              "      <td>18.88287</td>\n",
              "      <td>17.91068</td>\n",
              "      <td>17.53152</td>\n",
              "      <td>17.36284</td>\n",
              "      <td>17.13988</td>\n",
              "      <td>1345</td>\n",
              "      <td>301</td>\n",
              "      <td>3</td>\n",
              "      <td>163</td>\n",
              "      <td>5.033400e+17</td>\n",
              "      <td>GALAXY</td>\n",
              "      <td>0.014019</td>\n",
              "      <td>447</td>\n",
              "      <td>51877</td>\n",
              "      <td>229</td>\n",
              "      <td>2</td>\n",
              "    </tr>\n",
              "    <tr>\n",
              "      <th>9999</th>\n",
              "      <td>1.237650e+18</td>\n",
              "      <td>131.665012</td>\n",
              "      <td>51.805307</td>\n",
              "      <td>19.27586</td>\n",
              "      <td>17.37829</td>\n",
              "      <td>16.30542</td>\n",
              "      <td>15.83548</td>\n",
              "      <td>15.50588</td>\n",
              "      <td>1345</td>\n",
              "      <td>301</td>\n",
              "      <td>3</td>\n",
              "      <td>163</td>\n",
              "      <td>5.033410e+17</td>\n",
              "      <td>GALAXY</td>\n",
              "      <td>0.118417</td>\n",
              "      <td>447</td>\n",
              "      <td>51877</td>\n",
              "      <td>233</td>\n",
              "      <td>2</td>\n",
              "    </tr>\n",
              "  </tbody>\n",
              "</table>\n",
              "<p>10000 rows × 19 columns</p>\n",
              "</div>"
            ],
            "text/plain": [
              "             objid          ra        dec  ...    mjd  fiberid  classtarget\n",
              "0     1.237650e+18  183.531326   0.089693  ...  54922      491            1\n",
              "1     1.237650e+18  183.598371   0.135285  ...  51615      541            1\n",
              "2     1.237650e+18  183.680207   0.126185  ...  52023      513            2\n",
              "3     1.237650e+18  183.870529   0.049911  ...  54922      510            1\n",
              "4     1.237650e+18  183.883288   0.102557  ...  54922      512            1\n",
              "...            ...         ...        ...  ...    ...      ...          ...\n",
              "9995  1.237650e+18  131.316413  51.539547  ...  51877      246            2\n",
              "9996  1.237650e+18  131.306083  51.671341  ...  51877      228            2\n",
              "9997  1.237650e+18  131.552562  51.666986  ...  57013      622            1\n",
              "9998  1.237650e+18  131.477151  51.753068  ...  51877      229            2\n",
              "9999  1.237650e+18  131.665012  51.805307  ...  51877      233            2\n",
              "\n",
              "[10000 rows x 19 columns]"
            ]
          },
          "metadata": {},
          "execution_count": 6
        }
      ]
    },
    {
      "cell_type": "code",
      "metadata": {
        "id": "yMbhxIe7Z39-"
      },
      "source": [
        "#defina as variáveis ​​preditoras (X) e a variável de resposta (y)\n",
        "\n",
        "X=sloan[['r','u','i','z','g']]\n",
        "y=sloan['classtarget']\n",
        "\n",
        "X_train,X_test,y_train,y_test = train_test_split(X,y,test_size=0.3,random_state=0) "
      ],
      "execution_count": null,
      "outputs": []
    },
    {
      "cell_type": "code",
      "metadata": {
        "id": "Y2lTRwfIha8-"
      },
      "source": [
        "#FEATURE SCALING\n",
        "#import numpy as np\n",
        "#from sklearn.preprocessing import StandardScaler\n",
        "\n",
        "\n",
        "#y_train= np.reshape(y_train,(-1, 1))\n",
        "#y_test= np.reshape(y_test, (-1, 1))\n",
        "\n",
        "#sc_y= StandardScaler()\n",
        "#y_train1= sc_y.fit_transform(y_train)\n",
        "#y_test1= sc_y.transform(y_test)"
      ],
      "execution_count": null,
      "outputs": []
    },
    {
      "cell_type": "code",
      "metadata": {
        "id": "dhLBqASOJ24e"
      },
      "source": [
        "log_reg = LogisticRegression()"
      ],
      "execution_count": null,
      "outputs": []
    },
    {
      "cell_type": "code",
      "metadata": {
        "id": "haFbDjm6aMgA"
      },
      "source": [
        "y_train_class = (y_train == 1) # Verdadeiro para estrelas, falso p td o resto\n",
        "y_test_class = (y_test == 1)"
      ],
      "execution_count": null,
      "outputs": []
    },
    {
      "cell_type": "code",
      "metadata": {
        "colab": {
          "base_uri": "https://localhost:8080/"
        },
        "id": "ivA77dkKJrxu",
        "outputId": "14fdfed0-1a8d-4c1b-fc05-e3ec4788b9ab"
      },
      "source": [
        "# ajustar o modelo usando os dados de treinamento\n",
        "\n",
        "log_reg.fit(X_train,y_train)"
      ],
      "execution_count": null,
      "outputs": [
        {
          "output_type": "stream",
          "name": "stderr",
          "text": [
            "/usr/local/lib/python3.7/dist-packages/sklearn/linear_model/_logistic.py:818: ConvergenceWarning: lbfgs failed to converge (status=1):\n",
            "STOP: TOTAL NO. of ITERATIONS REACHED LIMIT.\n",
            "\n",
            "Increase the number of iterations (max_iter) or scale the data as shown in:\n",
            "    https://scikit-learn.org/stable/modules/preprocessing.html\n",
            "Please also refer to the documentation for alternative solver options:\n",
            "    https://scikit-learn.org/stable/modules/linear_model.html#logistic-regression\n",
            "  extra_warning_msg=_LOGISTIC_SOLVER_CONVERGENCE_MSG,\n"
          ]
        },
        {
          "output_type": "execute_result",
          "data": {
            "text/plain": [
              "LogisticRegression()"
            ]
          },
          "metadata": {},
          "execution_count": 11
        }
      ]
    },
    {
      "cell_type": "code",
      "metadata": {
        "id": "rRYDoLjLKOc_"
      },
      "source": [
        "#definindo a metrica\n",
        "\n",
        "y_pred_proba = log_reg.predict_proba(X_test)[::,1]\n",
        "fpr, tpr, _ = metrics.roc_curve(y_test_class,  y_pred_proba)"
      ],
      "execution_count": null,
      "outputs": []
    },
    {
      "cell_type": "markdown",
      "metadata": {
        "id": "itC1B58NdoGy"
      },
      "source": [
        "**Quanto mais a curva envolver o canto superior esquerdo do gráfico, melhor será o modelo de classificação dos dados em categorias.**"
      ]
    },
    {
      "cell_type": "code",
      "metadata": {
        "colab": {
          "base_uri": "https://localhost:8080/",
          "height": 295
        },
        "id": "pra493LxKWY7",
        "outputId": "b1a70478-f6ce-4415-dffd-daa762d40f9f"
      },
      "source": [
        "#criando a curva ROC\n",
        "plt.title('ROC STAR')\n",
        "plt.plot(fpr,tpr)\n",
        "plt.ylabel('True Positive Rate')\n",
        "plt.xlabel('False Positive Rate')\n",
        "plt.show()"
      ],
      "execution_count": null,
      "outputs": [
        {
          "output_type": "display_data",
          "data": {
            "image/png": "[encoded data removed]",
            "text/plain": [
              "<Figure size 432x288 with 1 Axes>"
            ]
          },
          "metadata": {
            "needs_background": "light"
          }
        }
      ]
    },
    {
      "cell_type": "code",
      "metadata": {
        "id": "Xzz3NYhjagu-"
      },
      "source": [
        "y_train_class = (y_train == 2) # Verdadeiro para galáxias, falso p td o resto\n",
        "y_test_class = (y_test == 2)"
      ],
      "execution_count": null,
      "outputs": []
    },
    {
      "cell_type": "code",
      "metadata": {
        "colab": {
          "base_uri": "https://localhost:8080/"
        },
        "id": "6zrRyB8jatis",
        "outputId": "56ffe272-09b1-4c87-d83c-3cfaaf5f2c99"
      },
      "source": [
        "log_reg.fit(X_train,y_train)"
      ],
      "execution_count": null,
      "outputs": [
        {
          "output_type": "stream",
          "name": "stderr",
          "text": [
            "/usr/local/lib/python3.7/dist-packages/sklearn/linear_model/_logistic.py:818: ConvergenceWarning: lbfgs failed to converge (status=1):\n",
            "STOP: TOTAL NO. of ITERATIONS REACHED LIMIT.\n",
            "\n",
            "Increase the number of iterations (max_iter) or scale the data as shown in:\n",
            "    https://scikit-learn.org/stable/modules/preprocessing.html\n",
            "Please also refer to the documentation for alternative solver options:\n",
            "    https://scikit-learn.org/stable/modules/linear_model.html#logistic-regression\n",
            "  extra_warning_msg=_LOGISTIC_SOLVER_CONVERGENCE_MSG,\n"
          ]
        },
        {
          "output_type": "execute_result",
          "data": {
            "text/plain": [
              "LogisticRegression()"
            ]
          },
          "metadata": {},
          "execution_count": 15
        }
      ]
    },
    {
      "cell_type": "code",
      "metadata": {
        "id": "3p9m0enSat8I"
      },
      "source": [
        "#definindo a metrica\n",
        "y_pred_proba = log_reg.predict_proba(X_test)[::,1]\n",
        "fpr, tpr, _ = metrics.roc_curve(y_test_class,  y_pred_proba)\n"
      ],
      "execution_count": null,
      "outputs": []
    },
    {
      "cell_type": "code",
      "metadata": {
        "colab": {
          "base_uri": "https://localhost:8080/",
          "height": 295
        },
        "id": "5gCdn2FaayF-",
        "outputId": "ca5b7302-8fce-40f7-a58f-d11044783cf7"
      },
      "source": [
        "#criando a curva ROC\n",
        "\n",
        "plt.title('ROC GALAXY')\n",
        "\n",
        "plt.plot(fpr,tpr)\n",
        "plt.ylabel('True Positive Rate')\n",
        "plt.xlabel('False Positive Rate')\n",
        "plt.show()"
      ],
      "execution_count": null,
      "outputs": [
        {
          "output_type": "display_data",
          "data": {
            "image/png": "[encoded data removed]",
            "text/plain": [
              "<Figure size 432x288 with 1 Axes>"
            ]
          },
          "metadata": {
            "needs_background": "light"
          }
        }
      ]
    },
    {
      "cell_type": "code",
      "metadata": {
        "id": "-ov6G8CWa1A6"
      },
      "source": [
        "y_train_class = (y_train == 3) # Verdadeiro para quasares, falso p td o resto\n",
        "y_test_class = (y_test == 3)"
      ],
      "execution_count": null,
      "outputs": []
    },
    {
      "cell_type": "code",
      "metadata": {
        "colab": {
          "base_uri": "https://localhost:8080/"
        },
        "id": "-gJUbUyWbPS0",
        "outputId": "eedefd82-0bbf-4338-a142-dc316bd6af34"
      },
      "source": [
        "log_reg.fit(X_train,y_train)"
      ],
      "execution_count": null,
      "outputs": [
        {
          "output_type": "stream",
          "name": "stderr",
          "text": [
            "/usr/local/lib/python3.7/dist-packages/sklearn/linear_model/_logistic.py:818: ConvergenceWarning: lbfgs failed to converge (status=1):\n",
            "STOP: TOTAL NO. of ITERATIONS REACHED LIMIT.\n",
            "\n",
            "Increase the number of iterations (max_iter) or scale the data as shown in:\n",
            "    https://scikit-learn.org/stable/modules/preprocessing.html\n",
            "Please also refer to the documentation for alternative solver options:\n",
            "    https://scikit-learn.org/stable/modules/linear_model.html#logistic-regression\n",
            "  extra_warning_msg=_LOGISTIC_SOLVER_CONVERGENCE_MSG,\n"
          ]
        },
        {
          "output_type": "execute_result",
          "data": {
            "text/plain": [
              "LogisticRegression()"
            ]
          },
          "metadata": {},
          "execution_count": 19
        }
      ]
    },
    {
      "cell_type": "code",
      "metadata": {
        "id": "Gh1skgpnbPwF"
      },
      "source": [
        "#definindo métrica\n",
        "y_pred_proba = log_reg.predict_proba(X_test)[::,1]\n",
        "fpr, tpr, _ = metrics.roc_curve(y_test_class,  y_pred_proba)"
      ],
      "execution_count": null,
      "outputs": []
    },
    {
      "cell_type": "code",
      "metadata": {
        "colab": {
          "base_uri": "https://localhost:8080/",
          "height": 295
        },
        "id": "B4QFKhwKbYp0",
        "outputId": "b2904ac2-4e18-48d3-c23f-e60e7755dcbf"
      },
      "source": [
        "#criando a curva ROC\n",
        "\n",
        "plt.title('ROC QSO')\n",
        "plt.plot(fpr,tpr)\n",
        "plt.ylabel('True Positive Rate')\n",
        "plt.xlabel('False Positive Rate')\n",
        "plt.show()"
      ],
      "execution_count": null,
      "outputs": [
        {
          "output_type": "display_data",
          "data": {
            "image/png": "[encoded data removed]",
            "text/plain": [
              "<Figure size 432x288 with 1 Axes>"
            ]
          },
          "metadata": {
            "needs_background": "light"
          }
        }
      ]
    },
    {
      "cell_type": "markdown",
      "metadata": {
        "id": "WblS6EF9d0Ca"
      },
      "source": [
        "Para quantificar isso, podemos calcular a AUC - área sob a curva - que nos diz quanto do gráfico está localizado sob a curva.\n",
        "\n",
        "Quanto mais próximo a AUC estiver de 1, melhor será o modelo. Um modelo com AUC igual a 0,5 não é melhor do que um modelo que faz classificações aleatórias.\n",
        "\n",
        ">FOI GERADO UM ERRO ENVOLVENDO OvO e OvR, então tentaremos utilizar o multicass classification."
      ]
    },
    {
      "cell_type": "code",
      "metadata": {
        "colab": {
          "base_uri": "https://localhost:8080/",
          "height": 224
        },
        "id": "I-ovhlu4d3Py",
        "outputId": "56fc42e0-2e1e-47cf-c9d3-31efd3c6662b"
      },
      "source": [
        "sloan.head()"
      ],
      "execution_count": null,
      "outputs": [
        {
          "output_type": "execute_result",
          "data": {
            "text/html": [
              "<div>\n",
              "<style scoped>\n",
              "    .dataframe tbody tr th:only-of-type {\n",
              "        vertical-align: middle;\n",
              "    }\n",
              "\n",
              "    .dataframe tbody tr th {\n",
              "        vertical-align: top;\n",
              "    }\n",
              "\n",
              "    .dataframe thead th {\n",
              "        text-align: right;\n",
              "    }\n",
              "</style>\n",
              "<table border=\"1\" class=\"dataframe\">\n",
              "  <thead>\n",
              "    <tr style=\"text-align: right;\">\n",
              "      <th></th>\n",
              "      <th>objid</th>\n",
              "      <th>ra</th>\n",
              "      <th>dec</th>\n",
              "      <th>u</th>\n",
              "      <th>g</th>\n",
              "      <th>r</th>\n",
              "      <th>i</th>\n",
              "      <th>z</th>\n",
              "      <th>run</th>\n",
              "      <th>rerun</th>\n",
              "      <th>camcol</th>\n",
              "      <th>field</th>\n",
              "      <th>specobjid</th>\n",
              "      <th>class</th>\n",
              "      <th>redshift</th>\n",
              "      <th>plate</th>\n",
              "      <th>mjd</th>\n",
              "      <th>fiberid</th>\n",
              "      <th>classtarget</th>\n",
              "    </tr>\n",
              "  </thead>\n",
              "  <tbody>\n",
              "    <tr>\n",
              "      <th>0</th>\n",
              "      <td>1.237650e+18</td>\n",
              "      <td>183.531326</td>\n",
              "      <td>0.089693</td>\n",
              "      <td>19.47406</td>\n",
              "      <td>17.04240</td>\n",
              "      <td>15.94699</td>\n",
              "      <td>15.50342</td>\n",
              "      <td>15.22531</td>\n",
              "      <td>752</td>\n",
              "      <td>301</td>\n",
              "      <td>4</td>\n",
              "      <td>267</td>\n",
              "      <td>3.722360e+18</td>\n",
              "      <td>STAR</td>\n",
              "      <td>-0.000009</td>\n",
              "      <td>3306</td>\n",
              "      <td>54922</td>\n",
              "      <td>491</td>\n",
              "      <td>1</td>\n",
              "    </tr>\n",
              "    <tr>\n",
              "      <th>1</th>\n",
              "      <td>1.237650e+18</td>\n",
              "      <td>183.598371</td>\n",
              "      <td>0.135285</td>\n",
              "      <td>18.66280</td>\n",
              "      <td>17.21449</td>\n",
              "      <td>16.67637</td>\n",
              "      <td>16.48922</td>\n",
              "      <td>16.39150</td>\n",
              "      <td>752</td>\n",
              "      <td>301</td>\n",
              "      <td>4</td>\n",
              "      <td>267</td>\n",
              "      <td>3.638140e+17</td>\n",
              "      <td>STAR</td>\n",
              "      <td>-0.000055</td>\n",
              "      <td>323</td>\n",
              "      <td>51615</td>\n",
              "      <td>541</td>\n",
              "      <td>1</td>\n",
              "    </tr>\n",
              "    <tr>\n",
              "      <th>2</th>\n",
              "      <td>1.237650e+18</td>\n",
              "      <td>183.680207</td>\n",
              "      <td>0.126185</td>\n",
              "      <td>19.38298</td>\n",
              "      <td>18.19169</td>\n",
              "      <td>17.47428</td>\n",
              "      <td>17.08732</td>\n",
              "      <td>16.80125</td>\n",
              "      <td>752</td>\n",
              "      <td>301</td>\n",
              "      <td>4</td>\n",
              "      <td>268</td>\n",
              "      <td>3.232740e+17</td>\n",
              "      <td>GALAXY</td>\n",
              "      <td>0.123111</td>\n",
              "      <td>287</td>\n",
              "      <td>52023</td>\n",
              "      <td>513</td>\n",
              "      <td>2</td>\n",
              "    </tr>\n",
              "    <tr>\n",
              "      <th>3</th>\n",
              "      <td>1.237650e+18</td>\n",
              "      <td>183.870529</td>\n",
              "      <td>0.049911</td>\n",
              "      <td>17.76536</td>\n",
              "      <td>16.60272</td>\n",
              "      <td>16.16116</td>\n",
              "      <td>15.98233</td>\n",
              "      <td>15.90438</td>\n",
              "      <td>752</td>\n",
              "      <td>301</td>\n",
              "      <td>4</td>\n",
              "      <td>269</td>\n",
              "      <td>3.722370e+18</td>\n",
              "      <td>STAR</td>\n",
              "      <td>-0.000111</td>\n",
              "      <td>3306</td>\n",
              "      <td>54922</td>\n",
              "      <td>510</td>\n",
              "      <td>1</td>\n",
              "    </tr>\n",
              "    <tr>\n",
              "      <th>4</th>\n",
              "      <td>1.237650e+18</td>\n",
              "      <td>183.883288</td>\n",
              "      <td>0.102557</td>\n",
              "      <td>17.55025</td>\n",
              "      <td>16.26342</td>\n",
              "      <td>16.43869</td>\n",
              "      <td>16.55492</td>\n",
              "      <td>16.61326</td>\n",
              "      <td>752</td>\n",
              "      <td>301</td>\n",
              "      <td>4</td>\n",
              "      <td>269</td>\n",
              "      <td>3.722370e+18</td>\n",
              "      <td>STAR</td>\n",
              "      <td>0.000590</td>\n",
              "      <td>3306</td>\n",
              "      <td>54922</td>\n",
              "      <td>512</td>\n",
              "      <td>1</td>\n",
              "    </tr>\n",
              "  </tbody>\n",
              "</table>\n",
              "</div>"
            ],
            "text/plain": [
              "          objid          ra       dec  ...    mjd  fiberid  classtarget\n",
              "0  1.237650e+18  183.531326  0.089693  ...  54922      491            1\n",
              "1  1.237650e+18  183.598371  0.135285  ...  51615      541            1\n",
              "2  1.237650e+18  183.680207  0.126185  ...  52023      513            2\n",
              "3  1.237650e+18  183.870529  0.049911  ...  54922      510            1\n",
              "4  1.237650e+18  183.883288  0.102557  ...  54922      512            1\n",
              "\n",
              "[5 rows x 19 columns]"
            ]
          },
          "metadata": {},
          "execution_count": 22
        }
      ]
    },
    {
      "cell_type": "markdown",
      "metadata": {
        "id": "qly8lNaPVsp7"
      },
      "source": [
        "Como usar a classe OneVsRestClassifier com uma classe LogisticRegression usada como modelo de classificação binária."
      ]
    },
    {
      "cell_type": "code",
      "metadata": {
        "id": "o0bOxznLVVQA"
      },
      "source": [
        "# logistic regression for multi-class classification using a one-vs-rest\n",
        "from sklearn.datasets import make_classification\n",
        "from sklearn.linear_model import LogisticRegression\n",
        "from sklearn.multiclass import OneVsRestClassifier\n",
        "from sklearn import metrics\n",
        "from sklearn.metrics import roc_curve, roc_auc_score"
      ],
      "execution_count": null,
      "outputs": []
    },
    {
      "cell_type": "code",
      "metadata": {
        "id": "-B7AcG5JVpc1"
      },
      "source": [
        "# definindo dataset\n",
        "\n",
        "X=sloan[['r','u','i','z','g']]\n",
        "y=sloan['classtarget']\n",
        "X_train,X_test,y_train,y_test = train_test_split(X,y,test_size=0.3,random_state=0) \n",
        "# define model\n",
        "model = LogisticRegression()\n",
        "# define the ovr strategy\n",
        "ovr = OneVsRestClassifier(model)\n",
        "# fit model\n",
        "ovr.fit(X, y)\n",
        "# make predictions\n",
        "yhat = ovr.predict(X_test)"
      ],
      "execution_count": null,
      "outputs": []
    },
    {
      "cell_type": "code",
      "metadata": {
        "id": "_4KSv0Hab0iH"
      },
      "source": [
        "y_train_class = (y_train == 1) # Verdadeiro para estrelas, falso p td o resto\n",
        "y_test_class = (y_test == 1)"
      ],
      "execution_count": null,
      "outputs": []
    },
    {
      "cell_type": "code",
      "metadata": {
        "id": "gjCHhYBob0l7"
      },
      "source": [
        "#definindo métrica\n",
        "\n",
        "fpr, tpr, _ = metrics.roc_curve(y_test_class,  yhat)\n",
        "auc = metrics.roc_auc_score(y_test_class, yhat)"
      ],
      "execution_count": null,
      "outputs": []
    },
    {
      "cell_type": "code",
      "metadata": {
        "colab": {
          "base_uri": "https://localhost:8080/",
          "height": 295
        },
        "id": "5xZJLgHJb0nt",
        "outputId": "2e7b26cd-1d5f-47e8-845c-664121e8dc91"
      },
      "source": [
        "#criando ROC curve\n",
        "\n",
        "plt.title('ROC STAR WITH AUC')\n",
        "plt.plot(fpr,tpr,label=\"AUC=\"+str(auc))\n",
        "plt.ylabel('True Positive Rate')\n",
        "plt.xlabel('False Positive Rate')\n",
        "plt.legend(loc=4)\n",
        "plt.show()"
      ],
      "execution_count": null,
      "outputs": [
        {
          "output_type": "display_data",
          "data": {
            "image/png": "[encoded data removed]",
            "text/plain": [
              "<Figure size 432x288 with 1 Axes>"
            ]
          },
          "metadata": {
            "needs_background": "light"
          }
        }
      ]
    },
    {
      "cell_type": "code",
      "metadata": {
        "id": "BGirrAfiZiBH"
      },
      "source": [
        "y_train_class = (y_train == 2) # Verdadeiro para galáxias, falso p td o resto\n",
        "y_test_class = (y_test == 2)"
      ],
      "execution_count": null,
      "outputs": []
    },
    {
      "cell_type": "code",
      "metadata": {
        "id": "O0i1h_9eVqV2"
      },
      "source": [
        "#definindo métrica\n",
        "\n",
        "fpr, tpr, _ = metrics.roc_curve(y_test_class,  yhat)\n",
        "auc = metrics.roc_auc_score(y_test_class, yhat)\n"
      ],
      "execution_count": null,
      "outputs": []
    },
    {
      "cell_type": "code",
      "metadata": {
        "colab": {
          "base_uri": "https://localhost:8080/",
          "height": 295
        },
        "id": "Bq-wYNlNZRoh",
        "outputId": "3f68003c-51c0-4838-c600-f37a0f3364ae"
      },
      "source": [
        "#criando ROC curve\n",
        "\n",
        "plt.title('ROC GALAXY WITH AUC')\n",
        "plt.plot(fpr,tpr,label=\"AUC=\"+str(auc))\n",
        "plt.ylabel('True Positive Rate')\n",
        "plt.xlabel('False Positive Rate')\n",
        "plt.legend(loc=4)\n",
        "plt.show()"
      ],
      "execution_count": null,
      "outputs": [
        {
          "output_type": "display_data",
          "data": {
            "image/png": "[encoded data removed]",
            "text/plain": [
              "<Figure size 432x288 with 1 Axes>"
            ]
          },
          "metadata": {
            "needs_background": "light"
          }
        }
      ]
    },
    {
      "cell_type": "code",
      "metadata": {
        "id": "n-qQqujycrUu"
      },
      "source": [
        "y_train_class = (y_train == 3) # Verdadeiro para quasares, falso p td o resto\n",
        "y_test_class = (y_test == 3)"
      ],
      "execution_count": null,
      "outputs": []
    },
    {
      "cell_type": "code",
      "metadata": {
        "id": "ZkEE0-FgcrNh"
      },
      "source": [
        "#definindo métrica\n",
        "\n",
        "fpr, tpr, _ = metrics.roc_curve(y_test_class, yhat)\n",
        "auc = metrics.roc_auc_score(y_test_class, yhat)"
      ],
      "execution_count": null,
      "outputs": []
    },
    {
      "cell_type": "code",
      "metadata": {
        "colab": {
          "base_uri": "https://localhost:8080/",
          "height": 295
        },
        "id": "yb1gPmEbcrJJ",
        "outputId": "85369331-e835-4911-fdc4-82156d2ebc39"
      },
      "source": [
        "#criando ROC curve\n",
        "\n",
        "plt.title('ROC QSO WITH AUC')\n",
        "plt.plot(fpr,tpr,label=\"AUC=\"+str(auc))\n",
        "plt.ylabel('True Positive Rate')\n",
        "plt.xlabel('False Positive Rate')\n",
        "plt.legend(loc=4)\n",
        "plt.show()"
      ],
      "execution_count": null,
      "outputs": [
        {
          "output_type": "display_data",
          "data": {
            "image/png": "[encoded data removed]",
            "text/plain": [
              "<Figure size 432x288 with 1 Axes>"
            ]
          },
          "metadata": {
            "needs_background": "light"
          }
        }
      ]
    },
    {
      "cell_type": "markdown",
      "metadata": {
        "id": "MBx16dVEcdNj"
      },
      "source": [
        "REFERÊNCIAS:\n",
        "\n",
        "https://www.statology.org/plot-roc-curve-python/\n",
        "\n",
        "https://machinelearningmastery.com/one-vs-rest-and-one-vs-one-for-multi-class-classification/"
      ]
    },
    {
      "cell_type": "code",
      "metadata": {
        "id": "p1lp3Ox3ZYnO"
      },
      "source": [
        ""
      ],
      "execution_count": null,
      "outputs": []
    }
  ]
}
